{
 "cells": [
  {
   "cell_type": "code",
   "execution_count": null,
   "id": "46351ce3",
   "metadata": {},
   "outputs": [],
   "source": [
    "\n"
   ]
  },
  {
   "cell_type": "code",
   "execution_count": null,
   "id": "04832a98",
   "metadata": {},
   "outputs": [],
   "source": []
  },
  {
   "cell_type": "code",
   "execution_count": null,
   "id": "1e7d9cfc",
   "metadata": {},
   "outputs": [],
   "source": []
  },
  {
   "cell_type": "code",
   "execution_count": null,
   "id": "7d6c9168",
   "metadata": {},
   "outputs": [
    {
     "data": {
      "text/plain": [
       "(1, 2)"
      ]
     },
     "execution_count": 2,
     "metadata": {},
     "output_type": "execute_result"
    }
   ],
   "source": [
    "def aaa():\n",
    "    \"\"\"\n",
    "    This function does nothing.\n",
    "    \"\"\"\n",
    "    return 1, 2\n",
    "\n",
    "a = aaa()\n",
    "a\n",
    "\n"
   ]
  },
  {
   "cell_type": "code",
   "execution_count": null,
   "id": "8e094a68",
   "metadata": {},
   "outputs": [
    {
     "name": "stdout",
     "output_type": "stream",
     "text": [
      "instance method called <__main__.MyClass object at 0x111b23820>\n",
      "class method called <class '__main__.MyClass'>\n",
      "static method called\n"
     ]
    },
    {
     "ename": "TypeError",
     "evalue": "MyClass.instance_method() missing 1 required positional argument: 'self'",
     "output_type": "error",
     "traceback": [
      "\u001b[0;31m---------------------------------------------------------------------------\u001b[0m",
      "\u001b[0;31mTypeError\u001b[0m                                 Traceback (most recent call last)",
      "Cell \u001b[0;32mIn[11], line 21\u001b[0m\n\u001b[1;32m     18\u001b[0m my_class\u001b[38;5;241m.\u001b[39mclass_method()     \u001b[38;5;66;03m# 类方法\u001b[39;00m\n\u001b[1;32m     19\u001b[0m my_class\u001b[38;5;241m.\u001b[39mstatic_method()    \u001b[38;5;66;03m# 静态方法\u001b[39;00m\n\u001b[0;32m---> 21\u001b[0m \u001b[43mMyClass\u001b[49m\u001b[38;5;241;43m.\u001b[39;49m\u001b[43minstance_method\u001b[49m\u001b[43m(\u001b[49m\u001b[43m)\u001b[49m   \u001b[38;5;66;03m# ！！报错，实例方法需要实例化对象调用\u001b[39;00m\n\u001b[1;32m     22\u001b[0m MyClass\u001b[38;5;241m.\u001b[39mclass_method()      \u001b[38;5;66;03m# 类方法\u001b[39;00m\n\u001b[1;32m     23\u001b[0m MyClass\u001b[38;5;241m.\u001b[39mstatic_method()     \u001b[38;5;66;03m# 静态方法\u001b[39;00m\n",
      "\u001b[0;31mTypeError\u001b[0m: MyClass.instance_method() missing 1 required positional argument: 'self'"
     ]
    }
   ],
   "source": [
    "class MyClass(object):\n",
    "    # 普通方法\n",
    "    def instance_method(self):\n",
    "        print('instance method called', self)    \n",
    "    # 类方法\n",
    "    @classmethod\n",
    "    def class_method(cls):\n",
    "        print('class method called', cls)\n",
    "    # 静态方法\n",
    "    @staticmethod\n",
    "    def static_method():\n",
    "        print('static method called')\n",
    "\n",
    "\n",
    "my_class = MyClass()        # 实例化\n",
    "\n",
    "my_class.instance_method()  # 实例方法\n",
    "my_class.class_method()     # 类方法\n",
    "my_class.static_method()    # 静态方法\n",
    "\n",
    "MyClass.instance_method()   # ！！报错，实例方法需要实例化对象调用\n",
    "MyClass.class_method()      # 类方法\n",
    "MyClass.static_method()     # 静态方法\n",
    "\n"
   ]
  },
  {
   "cell_type": "code",
   "execution_count": null,
   "id": "95e9a064",
   "metadata": {},
   "outputs": [],
   "source": [
    "class Car:  \n",
    "    def __init__(self, color, model):  \n",
    "        self.color = color  \n",
    "        self.model = model  \n",
    "\n",
    "my_car = Car(\"红色\", \"宝马\")  \n",
    "print(my_car.color)  # 输出：红色  \n"
   ]
  },
  {
   "cell_type": "code",
   "execution_count": null,
   "id": "3b4947ab",
   "metadata": {},
   "outputs": [
    {
     "name": "stdout",
     "output_type": "stream",
     "text": [
      "20\n"
     ]
    }
   ],
   "source": [
    "class Student:\n",
    "    def __init__(self, name, age):\n",
    "        self.__name = name   # 私有属性\n",
    "        self.age = age     # 私有属性\n",
    "    def __name(self):\n",
    "        return self.__name  # 返回私有属性\n",
    "    # 实例方法：访问私有属性\n",
    "    def get_name(self):\n",
    "        return self.__name\n",
    "\n",
    "\n",
    "zhang3 = Student(\"张三\", 20)  \n",
    "print(zhang3.__init__())  # 报错\n",
    "print(zhang3.get_name())  # 输出：张三\n",
    "print(zhang3.__name())  # 报错\n",
    "print(zhang3.age)  # 输出：20"
   ]
  },
  {
   "cell_type": "code",
   "execution_count": null,
   "id": "8a4076ed",
   "metadata": {},
   "outputs": [
    {
     "name": "stdout",
     "output_type": "stream",
     "text": [
      "这是一个Circle\n",
      "面积: 78.5\n",
      "这是一个Rectangle\n",
      "面积: 24\n"
     ]
    }
   ],
   "source": [
    "from abc import ABC, abstractmethod\n",
    "\n",
    "# 抽象基类\n",
    "class Shape(ABC):\n",
    "    @abstractmethod\n",
    "    def area(self) -> float:  # 抽象方法：必须实现\n",
    "        pass    \n",
    "    def show_type(self):      # 具体方法：复用逻辑\n",
    "        print(f\"这是一个{self.__class__.__name__}\")\n",
    "# 圆形类\n",
    "class Circle(Shape):\n",
    "    def __init__(self, radius):\n",
    "        self.radius = radius    \n",
    "    def area(self):           # 必须实现抽象方法\n",
    "        return 3.14 * self.radius ** 2\n",
    "# 矩形类\n",
    "class Rectangle(Shape):\n",
    "    def __init__(self, width, height):\n",
    "        self.width = width\n",
    "        self.height = height    \n",
    "    def area(self):           # 必须实现抽象方法\n",
    "        return self.width * self.height\n",
    "# 使用示例\n",
    "if __name__ == \"__main__\":\n",
    "    circle = Circle(5)\n",
    "    circle.show_type()  # ✅ 复用基类方法 → 输出\"这是一个Circle\"\n",
    "    print(\"面积:\", circle.area())  # 输出78.5\n",
    "    rect = Rectangle(4, 6)\n",
    "    rect.show_type()    # ✅ 复用基类方法 → 输出\"这是一个Rectangle\"\n",
    "    print(\"面积:\", rect.area())    # 输出24"
   ]
  }
 ],
 "metadata": {
  "kernelspec": {
   "display_name": "venv",
   "language": "python",
   "name": "python3"
  },
  "language_info": {
   "codemirror_mode": {
    "name": "ipython",
    "version": 3
   },
   "file_extension": ".py",
   "mimetype": "text/x-python",
   "name": "python",
   "nbconvert_exporter": "python",
   "pygments_lexer": "ipython3",
   "version": "3.10.14"
  }
 },
 "nbformat": 4,
 "nbformat_minor": 5
}
