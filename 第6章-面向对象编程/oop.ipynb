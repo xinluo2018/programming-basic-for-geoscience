{
 "cells": [
  {
   "cell_type": "markdown",
   "id": "4cba9560",
   "metadata": {},
   "source": [
    "### 面向对象编程"
   ]
  },
  {
   "cell_type": "markdown",
   "id": "42185590",
   "metadata": {},
   "source": [
    "#### 类与实例的创建"
   ]
  },
  {
   "cell_type": "code",
   "execution_count": null,
   "id": "38ad18c6",
   "metadata": {},
   "outputs": [
    {
     "name": "stdout",
     "output_type": "stream",
     "text": [
      "红色\n",
      "这是一辆红色的宝马.\n"
     ]
    }
   ],
   "source": [
    "## 创建汽车类, Python类命名风格：首字母大写\n",
    "class Car:\n",
    "    def __init__(self, color, brand):  ## 定义构造方法,第一个参数为self\n",
    "        self.color = color\n",
    "        self.brand = brand\n",
    "    def print_info(self):  ## 定义方法，第一个参数为self\n",
    "        print(f\"这是一辆{self.color}的{self.brand}.\")\n",
    "\n",
    "car = Car(\"红色\", \"宝马\")\n",
    "print(car.color) ## 获取属性\n",
    "car.print_info()  ## 调用方法\n"
   ]
  },
  {
   "cell_type": "code",
   "execution_count": 10,
   "id": "90c656b5",
   "metadata": {},
   "outputs": [
    {
     "data": {
      "text/plain": [
       "80.0"
      ]
     },
     "execution_count": 10,
     "metadata": {},
     "output_type": "execute_result"
    }
   ],
   "source": [
    "## 创建学生类\n",
    "class Student:\n",
    "    grade = \"大学一年级\"  ## 类属性\n",
    "    def __init__(self, name, age):\n",
    "        self.name = name\n",
    "        self.age = age\n",
    "    ## 定义方法，使用时需传入参数，可设计为在实例化类对象时传入\n",
    "    def scores_mean(self, scores):  \n",
    "        return sum(scores) / len(scores)\n",
    "\n",
    "zhang3 = Student(\"张三\", 20)\n",
    "zhang3.scores_mean([90, 80, 70])  ## 调用方法\n",
    "\n"
   ]
  },
  {
   "cell_type": "code",
   "execution_count": null,
   "id": "d25f1e07",
   "metadata": {},
   "outputs": [],
   "source": [
    "### 实例方法, 类方法, 静态方法, 属性方法 \n",
    "## 创建学生类\n",
    "class Student:\n",
    "    grade = \"大学一年级\"  ## 类属性\n",
    "    def __init__(self, name, age, weight, height):\n",
    "        self.name = name\n",
    "        self.age = age\n",
    "        self.weight = weight\n",
    "        self.height = height\n",
    "    ## 实例方法（属于类实例对象的方法），第一个参数为self\n",
    "    def scores_mean(self, scores):  \n",
    "        return sum(scores) / len(scores)\n",
    "    ## 类方法（属于类的方法），第一个参数为cls\n",
    "    @classmethod\n",
    "    def print_course(cls, course_tuple):\n",
    "        print(\"学生课程包含:\", *course_tuple)\n",
    "    ## 静态方法(与类相关)，不需要传入self或cls\n",
    "    @staticmethod\n",
    "    def compute_bmi(weight, height):    \n",
    "        bmi = weight / height ** 2        \n",
    "        return bmi\n",
    "    ## 属性方法, 将方法转换为属性访问方式\n",
    "    @property  \n",
    "    def proerty_bmi(self):\n",
    "        bmi = self.weight / self.height ** 2\n",
    "        return bmi\n",
    "        "
   ]
  },
  {
   "cell_type": "code",
   "execution_count": null,
   "id": "79cdcb0f",
   "metadata": {},
   "outputs": [],
   "source": [
    "zhang3 = Student(\"张三\", 20, 70, 1.75)\n",
    "zhang3.scores_mean([90, 80, 70])               ## 调用实例方法\n",
    "Student().scores_mean([90, 80, 70])            ## !!!报错，不能调用实例方法 \n",
    "zhang3.print_course((\"数学\", \"英语\", \"编程\"))    ## 调用类方法\n",
    "Student().print_course((\"数学\", \"英语\", \"编程\")) ## 调用类方法\n",
    "zhang3.proerty_bmi                             ## 调用属性方法\n"
   ]
  },
  {
   "cell_type": "markdown",
   "id": "1781ce1e",
   "metadata": {},
   "source": [
    "#### 类的封装"
   ]
  },
  {
   "cell_type": "code",
   "execution_count": 51,
   "id": "1832629c",
   "metadata": {},
   "outputs": [
    {
     "name": "stdout",
     "output_type": "stream",
     "text": [
      "张三平均分:80.0\n"
     ]
    }
   ],
   "source": [
    "## 创建学生类, 对方法和属性进行封装\n",
    "class Student:\n",
    "    grade = \"大学一年级\"  ## 类属性\n",
    "    def __init__(self, name, age):\n",
    "        self.name = name\n",
    "        self.__name = name  # 私有属性\n",
    "        self.age = age\n",
    "    ## 定义方法，使用时需传入参数，可设计为在实例化类对象时传入\n",
    "    def scores_mean(self, scores):  \n",
    "        return sum(scores) / len(scores)\n",
    "    def __scores_mean(self, scores):   # 私有方法\n",
    "        return sum(scores) / len(scores)\n",
    "    def print_mean(self, scores): \n",
    "        mean_score = self.__scores_mean(scores)\n",
    "        print(f\"{self.name}平均分:{mean_score}\")\n",
    "\n",
    "\n",
    "zhang3 = Student(\"张三\", 20)\n",
    "print(zhang3.name)\n",
    "print(zhang3.__name)  ## ！！报错，访问私有属性\n",
    "a = zhang3.scores_mean([90, 80, 70])  ## 调用方法\n",
    "a = zhang3.__scores_mean([90, 80, 70])  ## ！！报错，调用私有方法\n",
    "zhang3.print_mean([90, 80, 70])  ## 调用方法，输出张三的平均分\n",
    "\n"
   ]
  },
  {
   "cell_type": "markdown",
   "id": "29e8e14f",
   "metadata": {},
   "source": [
    "#### 类的继承"
   ]
  },
  {
   "cell_type": "code",
   "execution_count": 63,
   "id": "2b0a0b18",
   "metadata": {},
   "outputs": [
    {
     "data": {
      "text/plain": [
       "80.0"
      ]
     },
     "execution_count": 63,
     "metadata": {},
     "output_type": "execute_result"
    }
   ],
   "source": [
    "## 创建学生类, 对方法和属性进行封装\n",
    "class Student:\n",
    "    grade = \"大学一年级\"  ## 类属性\n",
    "    ## 构造方法\n",
    "    def __init__(self, name, age):  \n",
    "        self.name = name\n",
    "        self.age = age\n",
    "    ## 实例方法\n",
    "    def scores_mean(self, scores):  \n",
    "        return sum(scores) / len(scores)\n",
    "\n",
    "## 继承Student类\n",
    "class Student_boy(Student):  \n",
    "    gender = \"男\"  ## 子类属性    \n",
    "\n",
    "\n",
    "zhang3 = Student_boy(name=\"张三\", age=20)\n",
    "zhang3.gender\n",
    "zhang3.grade\n",
    "zhang3.scores_mean([90, 80, 70])  ## 调用父类方法\n",
    "\n"
   ]
  },
  {
   "cell_type": "code",
   "execution_count": 81,
   "id": "502c60d3",
   "metadata": {},
   "outputs": [
    {
     "data": {
      "text/plain": [
       "81.0"
      ]
     },
     "execution_count": 81,
     "metadata": {},
     "output_type": "execute_result"
    }
   ],
   "source": [
    "class Student_boy(Student):  ## 继承Student类\n",
    "    gender = \"男\"  ## 子类属性    \n",
    "    ### 更改实例属性（通过重写构造方法）\n",
    "    def __init__(self, name, age, height):  ## 重写构造方法\n",
    "        super().__init__(name, age)  ## 调用父类构造方法\n",
    "        self.height = height  ## 子类属性\n",
    "    ## 新增实例方法\n",
    "    def scores_max(self, scores):  \n",
    "        return max(scores)\n",
    "    # 重写父类方法\n",
    "    ## 对方法进行完全重写\n",
    "    def scores_mean(self, scores):  \n",
    "        return sum(scores) / len(scores) + 10  ## 增加10分\n",
    "    ## 在父类方法基础上增加功能\n",
    "    def scores_mean(self, scores, add=0):  \n",
    "        result = super().scores_mean(scores)\n",
    "        if add:\n",
    "            result += add\n",
    "        return result\n",
    "\n",
    "zhang3 = Student(name=\"张三\", age=20)\n",
    "zhang3_boy = Student_boy(name=\"张三\", age=20, height=1.75)\n",
    "zhang3_boy.height\n",
    "zhang3_boy.scores_max([90, 80, 70])  ## 调用子类方法\n",
    "zhang3_boy.scores_mean([90, 80, 70], add=1)  ## 调用子类方法，重写父类方法\n"
   ]
  },
  {
   "cell_type": "markdown",
   "id": "3d2fa81d",
   "metadata": {},
   "source": [
    "#### 类的多态"
   ]
  },
  {
   "cell_type": "code",
   "execution_count": 89,
   "id": "0badf9cd",
   "metadata": {},
   "outputs": [
    {
     "name": "stdout",
     "output_type": "stream",
     "text": [
      "汪汪！\n",
      "喵喵～\n"
     ]
    }
   ],
   "source": [
    "## 基于继承\n",
    "class Animal:\n",
    "    def speak(self):\n",
    "        return \"动物发出声音\"      # 基类方法\n",
    "\n",
    "class Dog(Animal):\n",
    "    def speak(self):  # 方法重写\n",
    "        return \"汪汪！\"\n",
    "\n",
    "class Cat(Animal):\n",
    "    def speak(self):  # 方法重写\n",
    "        return \"喵喵～\"\n",
    "\n",
    "dog = Dog()\n",
    "cat = Cat()\n",
    "print(dog.speak())  # 输出: 汪汪！\n",
    "print(cat.speak())  # 输出: 喵喵～\n",
    "\n",
    "\n"
   ]
  },
  {
   "cell_type": "code",
   "execution_count": 88,
   "id": "e477a678",
   "metadata": {},
   "outputs": [
    {
     "name": "stdout",
     "output_type": "stream",
     "text": [
      "汪汪！\n",
      "喵喵～\n"
     ]
    }
   ],
   "source": [
    "## 基于鸭子类型（长得像鸭子即可看作是鸭子），只要使用了相同方法名，即可视为多态\n",
    "class Dog():\n",
    "    def speak(self):  # 方法重写\n",
    "        return \"汪汪！\"\n",
    "\n",
    "class Cat():\n",
    "    def speak(self):  # 方法重写\n",
    "        return \"喵喵～\"\n",
    "\n",
    "dog = Dog()\n",
    "cat = Cat()\n",
    "print(dog.speak())  # 输出: 汪汪！\n",
    "print(cat.speak())  # 输出: 喵喵～\n",
    "\n"
   ]
  },
  {
   "cell_type": "markdown",
   "id": "3e45e3df",
   "metadata": {},
   "source": [
    "#### 类的抽象"
   ]
  },
  {
   "cell_type": "code",
   "execution_count": 93,
   "id": "3d6397bc",
   "metadata": {},
   "outputs": [
    {
     "data": {
      "text/plain": [
       "'汪汪！'"
      ]
     },
     "execution_count": 93,
     "metadata": {},
     "output_type": "execute_result"
    }
   ],
   "source": [
    "from abc import ABC, abstractmethod  # 导入ABC和abstractmethod\n",
    "\n",
    "## 创建普通类\n",
    "class Dog():\n",
    "    def speak(self):  # 方法重写\n",
    "        return \"汪汪！\"\n",
    "\n",
    "## 创建抽象类\n",
    "class Animal(ABC):  # 定义抽象基类\n",
    "    ## 模版方法，不可重写\n",
    "    def breath(self):\n",
    "        print(\"动物呼吸\")\n",
    "    @abstractmethod  # 定义抽象方法\n",
    "    def speak(self):\n",
    "        pass  # 抽象方法没有具体实现\n",
    "\n",
    "dog = Dog()\n",
    "dog.speak()  # 输出: 汪汪！\n",
    "# animal = Animal()  # !!!报错，不能实例化抽象类\n"
   ]
  },
  {
   "cell_type": "code",
   "execution_count": 95,
   "id": "79d97d88",
   "metadata": {},
   "outputs": [
    {
     "name": "stdout",
     "output_type": "stream",
     "text": [
      "动物呼吸\n"
     ]
    }
   ],
   "source": [
    "class dog(Animal):  # 继承抽象类\n",
    "    def speak(self):  # 实现抽象方法\n",
    "        return \"汪汪！\"\n",
    "\n",
    "dog = dog()\n",
    "dog.speak()  # 输出: 汪汪！\n",
    "dog.breath()  # 调用父类方法，输出: 动物呼吸\n"
   ]
  }
 ],
 "metadata": {
  "kernelspec": {
   "display_name": "venv",
   "language": "python",
   "name": "python3"
  },
  "language_info": {
   "codemirror_mode": {
    "name": "ipython",
    "version": 3
   },
   "file_extension": ".py",
   "mimetype": "text/x-python",
   "name": "python",
   "nbconvert_exporter": "python",
   "pygments_lexer": "ipython3",
   "version": "3.10.15"
  }
 },
 "nbformat": 4,
 "nbformat_minor": 5
}
