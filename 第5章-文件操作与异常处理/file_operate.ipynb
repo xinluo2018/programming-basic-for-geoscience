{
 "cells": [
  {
   "cell_type": "markdown",
   "id": "2af2ba75",
   "metadata": {},
   "source": [
    "### 文件操作与异常处理"
   ]
  },
  {
   "cell_type": "code",
   "execution_count": null,
   "id": "3d3f5417",
   "metadata": {},
   "outputs": [
    {
     "name": "stdout",
     "output_type": "stream",
     "text": [
      "date: 2025.9.1\n",
      "place: yunnan university\n",
      "\n"
     ]
    }
   ],
   "source": [
    "f = open('第5章-文件操作与异常处理/file.txt', 'r')\n",
    "content = f.read()\n",
    "print(content)\n",
    "f.close()  # 关闭文件\n"
   ]
  },
  {
   "cell_type": "code",
   "execution_count": null,
   "id": "06876c4b",
   "metadata": {},
   "outputs": [
    {
     "name": "stdout",
     "output_type": "stream",
     "text": [
      "['date: 2025.9.1\\n', 'place: yunnan university\\n', 'people: students \\n', '\\n', '\\n']\n"
     ]
    }
   ],
   "source": [
    "## with...as...上下文管理，自动关闭文件\n",
    "with open('第5章-文件操作与异常处理/file.txt', 'r') as f:\n",
    "    content = f.read()\n",
    "    lines = f.readlines()  # 读取所有行\n",
    "\n",
    "# print(content)\n",
    "print(lines)\n"
   ]
  },
  {
   "cell_type": "code",
   "execution_count": 7,
   "id": "ec6499ec",
   "metadata": {},
   "outputs": [],
   "source": [
    "## 写出\n",
    "with open('第5章-文件操作与异常处理/file_2.txt', 'w') as f:\n",
    "    f.write('Hello, world!\\n')\n",
    "    f.write('This is a new file.\\n')\n"
   ]
  },
  {
   "cell_type": "code",
   "execution_count": null,
   "id": "76ee29d0",
   "metadata": {},
   "outputs": [],
   "source": [
    "## 最加\n",
    "with open('第5章-文件操作与异常处理/file_2.txt', 'a') as f:\n",
    "    f.write('This is a sentence using \"a\" mode.\\n')\n"
   ]
  },
  {
   "cell_type": "markdown",
   "id": "cdafe8b4",
   "metadata": {},
   "source": [
    "#### 文件操作"
   ]
  },
  {
   "cell_type": "code",
   "execution_count": null,
   "id": "fec9f64e",
   "metadata": {},
   "outputs": [],
   "source": [
    "import os \n",
    "os.listdir('第5章-文件操作与异常处理') # 列出当前目录下的所有文件和文件夹\n",
    "os.rename('第5章-文件操作与异常处理/tmp2.txt', 'tmp2.txt')  # 重命名文件/移动\n",
    "os.remove('第5章-文件操作与异常处理/tmp2.txt')  # 删除文件\n"
   ]
  },
  {
   "cell_type": "code",
   "execution_count": null,
   "id": "49f0d66b",
   "metadata": {},
   "outputs": [
    {
     "data": {
      "text/plain": [
       "['第5章-文件操作与异常处理/file.txt', '第5章-文件操作与异常处理/file_2.txt']"
      ]
     },
     "execution_count": 52,
     "metadata": {},
     "output_type": "execute_result"
    }
   ],
   "source": [
    "### glob模块:文件路径匹配\n",
    "## os 模块\n",
    "import os\n",
    "files = [f for f in os.listdir('第5章-文件操作与异常处理') if f.endswith('.txt')]\n",
    "files\n",
    "\n",
    "import glob \n",
    "files = glob.glob('第5章-文件操作与异常处理/*.txt')  # 匹配所有txt文件\n",
    "# files = glob.glob('第5章-文件操作与异常处理/[!tmp]*.txt')  # 匹配所有txt文件\n",
    "files\n"
   ]
  },
  {
   "cell_type": "markdown",
   "id": "5c7904df",
   "metadata": {},
   "source": [
    "#### assert: 断言"
   ]
  },
  {
   "cell_type": "code",
   "execution_count": null,
   "id": "ed2eb595",
   "metadata": {},
   "outputs": [],
   "source": [
    "### 验证程序内部假设\n",
    "def calculate_area(width, height):\n",
    "    assert width > 0, \"宽度必须为正数\"\n",
    "    assert height > 0, \"高度必须为正数\"\n",
    "    return width * height\n",
    "\n",
    "print(calculate_area(5, 3))  # 正常\n",
    "print(calculate_area(-2, 4)) # 触发断言"
   ]
  },
  {
   "cell_type": "markdown",
   "id": "81f0b4f1",
   "metadata": {},
   "source": [
    "#### 异常处理"
   ]
  },
  {
   "cell_type": "code",
   "execution_count": 76,
   "id": "c5775b91",
   "metadata": {},
   "outputs": [],
   "source": [
    "## 读入一个不存在文件\n",
    "# with open('aaa.txt', 'r') as f:\n",
    "#   content = f.read()\n",
    "\n",
    "# ## 索引错误\n",
    "# list1 = [1, 2, 3]\n",
    "# a = list1[3]  # 索引错误，索引超出范围\n"
   ]
  },
  {
   "cell_type": "code",
   "execution_count": null,
   "id": "c2620c5b",
   "metadata": {},
   "outputs": [
    {
     "name": "stdout",
     "output_type": "stream",
     "text": [
      "文件未找到, 请检查文件路径！！\n"
     ]
    }
   ],
   "source": [
    "## 基本语法，如果except后没有错误类型，那么会捕获所有异常\n",
    "try:\n",
    "  with open('aaa.txt', 'r') as f:\n",
    "    content = f.read()\n",
    "except FileNotFoundError:\n",
    "  print(f\"文件未找到, 请检查文件路径！！\")\n"
   ]
  },
  {
   "cell_type": "code",
   "execution_count": null,
   "id": "c0cef505",
   "metadata": {},
   "outputs": [
    {
     "name": "stdout",
     "output_type": "stream",
     "text": [
      "除数不能为零\n"
     ]
    }
   ],
   "source": [
    "# try:\n",
    "#   result = 10 / 0\n",
    "# except ZeroDivisionError:\n",
    "#   print(f\"除数不能为零\")\n",
    "\n",
    "## 捕获多个异常\n",
    "try:\n",
    "  num = int(input(\"请输入一个数: \"))\n",
    "  print(10/num)\n",
    "except ValueError:\n",
    "  print(\"输入的不是一个有效的整数\")\n",
    "except ZeroDivisionError:\n",
    "  print(\"除数不能为零\")\n"
   ]
  }
 ],
 "metadata": {
  "kernelspec": {
   "display_name": "venv",
   "language": "python",
   "name": "python3"
  },
  "language_info": {
   "codemirror_mode": {
    "name": "ipython",
    "version": 3
   },
   "file_extension": ".py",
   "mimetype": "text/x-python",
   "name": "python",
   "nbconvert_exporter": "python",
   "pygments_lexer": "ipython3",
   "version": "3.10.15"
  }
 },
 "nbformat": 4,
 "nbformat_minor": 5
}
