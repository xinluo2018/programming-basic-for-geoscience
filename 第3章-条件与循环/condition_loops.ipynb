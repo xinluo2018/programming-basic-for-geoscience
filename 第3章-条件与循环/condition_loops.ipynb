{
 "cells": [
  {
   "cell_type": "markdown",
   "id": "09a7c680",
   "metadata": {},
   "source": [
    "## 条件与循环"
   ]
  },
  {
   "cell_type": "markdown",
   "id": "e10a4c07",
   "metadata": {},
   "source": [
    "### 条件"
   ]
  },
  {
   "cell_type": "code",
   "execution_count": null,
   "id": "b89702ee",
   "metadata": {},
   "outputs": [
    {
     "name": "stdout",
     "output_type": "stream",
     "text": [
      "偶数\n",
      "偶数\n"
     ]
    }
   ],
   "source": [
    "num = 10\n",
    "if num % 2 == 0:\n",
    "    print(\"偶数\") ## 注意缩进\n",
    "else:\n",
    "    print(\"奇数\")\n",
    "\n",
    "## 简化写法\n",
    "print(\"偶数\") if num % 2 == 0 else print(\"奇数\")\n"
   ]
  },
  {
   "cell_type": "code",
   "execution_count": null,
   "id": "14be426d",
   "metadata": {},
   "outputs": [
    {
     "name": "stdout",
     "output_type": "stream",
     "text": [
      "负数\n"
     ]
    }
   ],
   "source": [
    "## 多条件判断：elif\n",
    "num = -5\n",
    "if num > 0:\n",
    "    print(\"正数\")\n",
    "elif num < 0: \n",
    "    print(\"负数\")\n",
    "else:\n",
    "    print(\"零\")\n",
    "\n"
   ]
  },
  {
   "cell_type": "code",
   "execution_count": 20,
   "id": "094ea53d",
   "metadata": {},
   "outputs": [
    {
     "name": "stdout",
     "output_type": "stream",
     "text": [
      "正偶数\n"
     ]
    }
   ],
   "source": [
    "## 条件嵌套\n",
    "num = 10\n",
    "# if num > 0:\n",
    "#     print(\"正数\")\n",
    "#     if num % 2 == 0:\n",
    "#         print(\"正偶数\")\n",
    "#     else:\n",
    "#         print(\"正奇数\")\n",
    "\n",
    "## 逻辑运算符: and, or, not\n",
    "if num > 0 and num % 2 == 0:\n",
    "    print(\"正偶数\") \n"
   ]
  },
  {
   "cell_type": "code",
   "execution_count": 14,
   "id": "834a4497",
   "metadata": {},
   "outputs": [
    {
     "name": "stdout",
     "output_type": "stream",
     "text": [
      "女士您好，您的bmi指数表明您肥胖\n"
     ]
    }
   ],
   "source": [
    "## bmi 计算, bmi = 体重(kg) / 身高(m)^2. \n",
    "## < 18.5为偏瘦, 18.5~24.9为正常, 25~29.9为偏胖, >=30为肥胖\n",
    "weight = 100  # kg\n",
    "height = 1.75  # m\n",
    "gender = \"女\"  # 男/女\n",
    "bmi = weight / (height ** 2)\n",
    "## 多条件判断+嵌套\n",
    "if bmi < 18.5:\n",
    "    if gender == \"男\":\n",
    "      print(\"先生您好，您的bmi指数表明您偏瘦\")\n",
    "    else:\n",
    "      print(\"女士您好，您的bmi指数表明您偏瘦\")\n",
    "elif 18.5 <= bmi < 25:\n",
    "    if gender == \"男\":\n",
    "      print(\"先生您好，您的bmi指数表明您正常\")\n",
    "    else:\n",
    "      print(\"女士您好，您的bmi指数表明您正常\")\n",
    "elif 25 <= bmi < 30:  \n",
    "    if gender == \"男\":\n",
    "      print(\"先生您好，您的bmi指数表明您偏胖\")\n",
    "    else:\n",
    "      print(\"女士您好，您的bmi指数表明您偏胖\")\n",
    "else:\n",
    "    if gender == \"男\":\n",
    "      print(\"先生您好，您的bmi指数表明您肥胖\")\n",
    "    else:\n",
    "      print(\"女士您好，您的bmi指数表明您肥胖\")\n",
    "\n"
   ]
  },
  {
   "cell_type": "markdown",
   "id": "a7443618",
   "metadata": {},
   "source": [
    "### 循环"
   ]
  },
  {
   "cell_type": "markdown",
   "id": "a369a3fd",
   "metadata": {},
   "source": [
    "#### for...in...循环"
   ]
  },
  {
   "cell_type": "code",
   "execution_count": null,
   "id": "f32830c4",
   "metadata": {},
   "outputs": [],
   "source": [
    "list1 = [1, 2, 3]  # 列表\n",
    "for i in list1:\n",
    "    print(i)  # 输出列表中的每个元素\n",
    "\n",
    "student = {'zhang3': 76, 'li4': 80, 'wang5':92}  # 字典\n",
    "for key in student:\n",
    "    print(key, ':', student[key])  # 输出字典中的每个键及其对应的值"
   ]
  },
  {
   "cell_type": "code",
   "execution_count": null,
   "id": "12465d10",
   "metadata": {},
   "outputs": [
    {
     "name": "stdout",
     "output_type": "stream",
     "text": [
      "女士您好，您的bmi指数表明您肥胖\n"
     ]
    }
   ],
   "source": [
    "for i in range(1, 10): # 生成1到9的数字\n",
    "    print(i)  # 输出每个数字  \n",
    "\n",
    "num = 1\n",
    "for i in range(1,21):  # 左闭右开区间\n",
    "    num = num*i   # 累乘\n",
    "\n",
    "print('1到20的累乘结果是：', num)  # 输出累乘结果\n",
    "\n",
    "\n"
   ]
  },
  {
   "cell_type": "markdown",
   "id": "6ec33032",
   "metadata": {},
   "source": [
    "#### while循环"
   ]
  },
  {
   "cell_type": "code",
   "execution_count": null,
   "id": "1abef183",
   "metadata": {},
   "outputs": [],
   "source": [
    "total = 0\n",
    "while total < 100:  # 当总和小于100时\n",
    "  num = int(input('请输入一个数字：'))  # 输入数字\n",
    "  total += num  # 累加输入的数字\n",
    "  print('当前总和是：', total)  # 输出当前总和\n",
    "print('总和是：', total)  # 输出总和\n"
   ]
  }
 ],
 "metadata": {
  "kernelspec": {
   "display_name": "venv",
   "language": "python",
   "name": "python3"
  },
  "language_info": {
   "codemirror_mode": {
    "name": "ipython",
    "version": 3
   },
   "file_extension": ".py",
   "mimetype": "text/x-python",
   "name": "python",
   "nbconvert_exporter": "python",
   "pygments_lexer": "ipython3",
   "version": "3.10.15"
  }
 },
 "nbformat": 4,
 "nbformat_minor": 5
}
