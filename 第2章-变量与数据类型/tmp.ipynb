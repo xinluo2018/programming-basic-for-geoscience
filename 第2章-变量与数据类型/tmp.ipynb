{
 "cells": [
  {
   "cell_type": "code",
   "execution_count": null,
   "id": "4c1b82f2",
   "metadata": {},
   "outputs": [],
   "source": [
    "\n",
    "\n"
   ]
  },
  {
   "cell_type": "code",
   "execution_count": null,
   "id": "708f8570",
   "metadata": {},
   "outputs": [
    {
     "name": "stdout",
     "output_type": "stream",
     "text": [
      "0\n",
      "14\n",
      "-11\n"
     ]
    }
   ],
   "source": [
    "a = 10       # 二进制表示为 1010\n",
    "b = 4        # 二进制表示为 0100\n",
    "print(a & b) # 输出：0，二进制中对应位都是1才为1，1010 & 0100 = 0000\n",
    "print(a | b) # 输出：14，二进制中对应位至少有一个1即为1，1010 | 0100 = 1110，即14\n",
    "print(~a)    # 输出：-11，按位取反，1010变为0101，负数用补码表示，0101的补码是1011,即-11\n"
   ]
  }
 ],
 "metadata": {
  "kernelspec": {
   "display_name": "venv",
   "language": "python",
   "name": "python3"
  },
  "language_info": {
   "codemirror_mode": {
    "name": "ipython",
    "version": 3
   },
   "file_extension": ".py",
   "mimetype": "text/x-python",
   "name": "python",
   "nbconvert_exporter": "python",
   "pygments_lexer": "ipython3",
   "version": "3.10.15"
  }
 },
 "nbformat": 4,
 "nbformat_minor": 5
}
