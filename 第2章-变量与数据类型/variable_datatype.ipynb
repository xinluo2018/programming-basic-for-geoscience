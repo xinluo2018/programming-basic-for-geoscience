{
 "cells": [
  {
   "cell_type": "markdown",
   "id": "038fabc4",
   "metadata": {},
   "source": [
    "### 变量与数据类型"
   ]
  },
  {
   "cell_type": "markdown",
   "id": "af2b77ad",
   "metadata": {},
   "source": [
    "### 变量"
   ]
  },
  {
   "cell_type": "code",
   "execution_count": null,
   "id": "8f135a38",
   "metadata": {},
   "outputs": [
    {
     "name": "stdout",
     "output_type": "stream",
     "text": [
      "hello zhang3\n",
      "hello li4\n",
      "hello wang5\n"
     ]
    }
   ],
   "source": [
    "## '#'代表注释，快捷键Ctrl+/可以注释或取消注释\n",
    "greet = 'hello '\n",
    "# print('hello '+ 'zhang3')\n",
    "# print('hello '+ 'li4')\n",
    "# print('hello '+ 'wang5')\n",
    "print(greet + 'zhang3')\n",
    "print(greet + 'li4')\n",
    "print(greet + 'wang5')\n"
   ]
  },
  {
   "cell_type": "code",
   "execution_count": 13,
   "id": "d367ca27",
   "metadata": {},
   "outputs": [
    {
     "name": "stdout",
     "output_type": "stream",
     "text": [
      "800\n",
      "salary_day: 800\n"
     ]
    }
   ],
   "source": [
    "print(100 * 8) \n",
    "hours = 8\n",
    "salary_per_hour = 100\n",
    "salary_day = hours * salary_per_hour\n",
    "print('salary_day: ' + str(salary_day))\n"
   ]
  },
  {
   "cell_type": "code",
   "execution_count": 18,
   "id": "c65e3bc3",
   "metadata": {},
   "outputs": [],
   "source": [
    "## 命名规则\n",
    "## 正确\n",
    "studdent_name = 'zhang3'\n",
    "_count = 100\n",
    "total_salary = 2000\n",
    "## 错误\n",
    "# 2years = 2  # 不能以数字开头\n",
    "# first-name = 'zhang3'  # 不能使用连字符\n",
    "# class = 'python'  # 不能使用关键字作为变量名\n",
    "\n"
   ]
  },
  {
   "cell_type": "code",
   "execution_count": 21,
   "id": "2fdce964",
   "metadata": {},
   "outputs": [
    {
     "name": "stdout",
     "output_type": "stream",
     "text": [
      "[1, 2, 3, 4]\n"
     ]
    }
   ],
   "source": [
    "### 赋值\n",
    "a = [1, 2, 3]\n",
    "b = a  # b指向a的同一个对象\n",
    "a.append(4)  # 修改a也会影响b\n",
    "print(b)\n"
   ]
  },
  {
   "cell_type": "code",
   "execution_count": null,
   "id": "87cb4370",
   "metadata": {},
   "outputs": [
    {
     "name": "stdout",
     "output_type": "stream",
     "text": [
      "[1, 2, 3]\n",
      "hello\n"
     ]
    }
   ],
   "source": [
    "### 可变对象 vs 不可变对象\n",
    "## 可变对象：列表、字典、集合等\n",
    "ls1 = [1, 2]\n",
    "ls2 = ls1  # ls2指向ls1的同一个对象\n",
    "ls1.append(3)  # 修改ls1会影响ls2\n",
    "print(ls2)  # 输出: [1, 2, 3]\n",
    "## 不可变对象：字符串、元组等\n",
    "s1 = 'hello'\n",
    "s2 = s1  # s2指向s1的同一个对象\n",
    "s1 = s1 +' world'  # 创建了一个新的字符串对象\n",
    "print(s2)  # 输出: 'hello'，s2没有被修改\n"
   ]
  },
  {
   "cell_type": "code",
   "execution_count": null,
   "id": "04e825e2",
   "metadata": {},
   "outputs": [
    {
     "name": "stdout",
     "output_type": "stream",
     "text": [
      "14\n",
      "False\n",
      "True\n",
      "True\n",
      "True\n",
      "True\n",
      "False\n",
      "0\n",
      "14\n"
     ]
    }
   ],
   "source": [
    "### 变量基本运算\n",
    "a = 10\n",
    "b = 4\n",
    "### 算术计算\n",
    "print(a + b)  # 加法\n",
    "# print(a - b)  # 减法\n",
    "# print(a * b)  # 乘法\n",
    "# print(a / b)  # 除法\n",
    "# print(a // b)  # 整除\n",
    "# print(a % b)  # 取余\n",
    "# print(a ** b)  # 幂运算\n",
    "\n",
    "## 比较运算\n",
    "print(a == b)  # 等于, 注意是两个等号。\n",
    "print(a != b)  # 不等于\n",
    "print(a > b)   # 大于\n",
    "\n",
    "## 逻辑运算\n",
    "print(a > 5 and b < 5)  # 与\n",
    "print(a > 5 or b < 5)   # 或\n",
    "print(not (a > 5))  # 非\n",
    "## 位运算\n",
    "print(a & b)  # 按位与, a:0100, b: 1010 -> 0000\n",
    "print(a | b)  # 按位或, a:0100, b: 1010 -> 1110, 2**3+2**2+2**1 = 14\n",
    "\n"
   ]
  },
  {
   "cell_type": "markdown",
   "id": "7b95ea9c",
   "metadata": {},
   "source": [
    "### 数据类型"
   ]
  },
  {
   "cell_type": "markdown",
   "id": "a538c558",
   "metadata": {},
   "source": [
    "#### 数值型 number"
   ]
  },
  {
   "cell_type": "code",
   "execution_count": 50,
   "id": "073f259f",
   "metadata": {},
   "outputs": [
    {
     "name": "stdout",
     "output_type": "stream",
     "text": [
      "<class 'int'>\n",
      "<class 'float'>\n",
      "3.0\n",
      "3\n",
      "3\n"
     ]
    }
   ],
   "source": [
    "## number \n",
    "a = 10  # 整数\n",
    "b = 3.14  # 浮点数\n",
    "print(type(a))  # <class 'int'>\n",
    "print(type(b))  # <class 'float'>\n",
    "print(a//b)  # 混合运算，自动转换为浮点数\n",
    "print(round(b)) ## 四舍五入\n",
    "print(int(b))   # 浮点数转换为整数，截断小数部分\n"
   ]
  },
  {
   "cell_type": "markdown",
   "id": "42b5f732",
   "metadata": {},
   "source": [
    "#### 列表 list"
   ]
  },
  {
   "cell_type": "code",
   "execution_count": 21,
   "id": "99927f32",
   "metadata": {},
   "outputs": [
    {
     "name": "stdout",
     "output_type": "stream",
     "text": [
      "5\n",
      "[1, 'a', True, 3, 4, 'new item']\n",
      "[1, True, 3, 4, 'new item']\n",
      "[1, 'inserted item', True, 3, 4, 'new item']\n",
      "[1, 'inserted item', True, 3, 4]\n",
      "['inserted item', True]\n"
     ]
    }
   ],
   "source": [
    "list1 = [1, 'a', True, 3, 4]  # 列表\n",
    "list2 = [[1,2], [3,4]]  # 列表\n",
    "list3 = list((1,2,3))\n",
    "print(len(list1))  # 获取列表长度\n",
    "list1.append('new item')  # 添加新元素\n",
    "print(list1) \n",
    "list1.remove('a')  # 删除元素\n",
    "print(list1)  \n",
    "list1.insert(1, 'inserted item')  # 在指定位置插入元素\n",
    "print(list1)  # \n",
    "list1.pop()  # 删除最后一个元素(返回值为最后一个元素)\n",
    "print(list1)  # 查看列表\n",
    "list1_1 = list1[1:3]  # 排序\n",
    "print(list1_1)  # 输出: [1]\n",
    "\n"
   ]
  },
  {
   "cell_type": "markdown",
   "id": "2492a1af",
   "metadata": {},
   "source": [
    "#### 字符串 string"
   ]
  },
  {
   "cell_type": "code",
   "execution_count": null,
   "id": "0b96ae7b",
   "metadata": {},
   "outputs": [
    {
     "name": "stdout",
     "output_type": "stream",
     "text": [
      "Hello World!\n",
      "Hello World! This is a python string\n",
      "Hello\n",
      "Hello Python!\n",
      "['Hello', 'World!']\n",
      "12\n"
     ]
    }
   ],
   "source": [
    "## string, 单引号双引号使用\n",
    "str1 = \"Hello World!\"\n",
    "# str1 = 'Hello \"World\"!'\n",
    "# str1 = 'Hello \\nWorld!' ### 转义符\n",
    "print(str1)\n",
    "str2 = \" This is a python string\"\n",
    "str3 = str1 + str2  # 字符串拼接\n",
    "print(str3)  # 输出拼接后的字符串\n",
    "str4 = str1[0:5]  # 字符串切片，获取前5个字符\n",
    "print(str4)  # 输出: Hello\n",
    "str5 = str1.replace(\"World\", \"Python\")  # 替换字符串中的内容\n",
    "print(str5)  # 输出: Hello Python!\n",
    "str6 = str1.split(\" \")  # 按空格分割字符串\n",
    "print(str6)  # 输出: hello world!\n",
    "print(len(str1))  # 获取字符串长度"
   ]
  },
  {
   "cell_type": "code",
   "execution_count": 14,
   "id": "1f689c11",
   "metadata": {},
   "outputs": [
    {
     "name": "stdout",
     "output_type": "stream",
     "text": [
      "My age is 18\n",
      "My gpa is 3.5\n"
     ]
    }
   ],
   "source": [
    "### f-string格式化字符串\n",
    "age = 18\n",
    "print(f'My age is {age}')  # \n",
    "gpa = 3.534\n",
    "print(f'My gpa is {gpa:.1f}')  #输出小数点后1位\n",
    "\n"
   ]
  },
  {
   "cell_type": "markdown",
   "id": "4acedcab",
   "metadata": {},
   "source": [
    "#### 布尔型bool"
   ]
  },
  {
   "cell_type": "code",
   "execution_count": null,
   "id": "a2a26ab8",
   "metadata": {},
   "outputs": [
    {
     "name": "stdout",
     "output_type": "stream",
     "text": [
      "<class 'bool'>\n"
     ]
    }
   ],
   "source": [
    "## bool型\n",
    "a = True\n",
    "b = False\n",
    "print(type(a))  # <class 'bool'>"
   ]
  },
  {
   "cell_type": "markdown",
   "id": "96a78e81",
   "metadata": {},
   "source": [
    "#### 元组型 tuple"
   ]
  },
  {
   "cell_type": "code",
   "execution_count": 74,
   "id": "41027d4b",
   "metadata": {},
   "outputs": [],
   "source": [
    "### 元组tuple\n",
    "a = (1, 2, 3)  # 创建一个元组\n",
    "b,c,d = a # 解包元组\n",
    "a[1]\n",
    "e = list(a)  # 将元组转换为列表\n",
    "# a[1] = 0  # 元组是不可变的，不能修改元素\n",
    "\n"
   ]
  },
  {
   "cell_type": "markdown",
   "id": "32ce64cf",
   "metadata": {},
   "source": [
    "#### 字典 dictionary"
   ]
  },
  {
   "cell_type": "code",
   "execution_count": 85,
   "id": "623721d6",
   "metadata": {},
   "outputs": [
    {
     "name": "stdout",
     "output_type": "stream",
     "text": [
      "{'name': 'zhang3', 'age': 18, 'gender': 'boy'}\n",
      "dict_keys(['name', 'age', 'gender'])\n",
      "dict_values(['zhang3', 18, 'boy'])\n"
     ]
    }
   ],
   "source": [
    "### dictionary 字典\n",
    "student = {'name':'zhang3', 'age': 18}\n",
    "student['name']  # 访问字典中的值\n",
    "student['gender'] = 'boy' # 添加新的键值对\n",
    "print(student)\n",
    "print(student.keys()) # 获取字典的所有键\n",
    "print(student.values()) # 获取字典的所有键\n"
   ]
  },
  {
   "cell_type": "markdown",
   "id": "f9f8fcd7",
   "metadata": {},
   "source": [
    "#### 集合 set"
   ]
  },
  {
   "cell_type": "code",
   "execution_count": null,
   "id": "06e399cb",
   "metadata": {},
   "outputs": [
    {
     "name": "stdout",
     "output_type": "stream",
     "text": [
      "{1, 2, 3, 4}\n",
      "{2, 3}\n",
      "{1}\n",
      "{2, 3, 4}\n"
     ]
    }
   ],
   "source": [
    "## 集合\n",
    "a = {1, 2, 3}  # 创建一个集合\n",
    "b = {2, 3, 4}  # 创建另一个集合\n",
    "# print(a.union(b))  # 并集\n",
    "# print(a.intersection(b))  # 交集\n",
    "# print(a.difference(b))  # 差集\n",
    "print(a | b)  # 并集, 位运算符‘或’\n",
    "print(a & b)  # 交集，位运算符‘与’\n",
    "print(a - b)  # 差集\n",
    "# a[0]  ## 集合是无序的，不能通过索引访问元素\n",
    "a.add(4)  # 添加元素\n",
    "a.remove(1)  # 删除元素\n",
    "print(a)\n"
   ]
  }
 ],
 "metadata": {
  "kernelspec": {
   "display_name": "venv",
   "language": "python",
   "name": "python3"
  },
  "language_info": {
   "codemirror_mode": {
    "name": "ipython",
    "version": 3
   },
   "file_extension": ".py",
   "mimetype": "text/x-python",
   "name": "python",
   "nbconvert_exporter": "python",
   "pygments_lexer": "ipython3",
   "version": "3.10.15"
  }
 },
 "nbformat": 4,
 "nbformat_minor": 5
}
