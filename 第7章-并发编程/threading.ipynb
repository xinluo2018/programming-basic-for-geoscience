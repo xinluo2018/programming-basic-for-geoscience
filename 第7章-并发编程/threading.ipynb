{
 "cells": [
  {
   "cell_type": "markdown",
   "id": "1455f4df",
   "metadata": {},
   "source": [
    "### 多线程编程"
   ]
  },
  {
   "cell_type": "code",
   "execution_count": 1,
   "id": "7f7dbd1f",
   "metadata": {},
   "outputs": [],
   "source": [
    "import threading \n"
   ]
  },
  {
   "cell_type": "code",
   "execution_count": 13,
   "id": "5c01a675",
   "metadata": {},
   "outputs": [
    {
     "name": "stdout",
     "output_type": "stream",
     "text": [
      "MainThread\n",
      "当前线程数：7\n"
     ]
    }
   ],
   "source": [
    "## 查看当前线程的名称\n",
    "print(threading.current_thread().name)\n",
    "print(f'当前线程数：{threading.active_count()}')\n"
   ]
  },
  {
   "cell_type": "code",
   "execution_count": 24,
   "id": "acfdd2f7",
   "metadata": {},
   "outputs": [
    {
     "name": "stdout",
     "output_type": "stream",
     "text": [
      "线程名: MainThread           | ID: 8610353664 | 是否存活: True\n",
      "线程名: IOPub                | ID: 12954116096 | 是否存活: True\n",
      "线程名: Heartbeat            | ID: 12970905600 | 是否存活: True\n",
      "线程名: Thread-1 (_watch_pipe_fd) | ID: 12988768256 | 是否存活: True\n",
      "线程名: Thread-2 (_watch_pipe_fd) | ID: 13005557760 | 是否存活: True\n",
      "线程名: Control              | ID: 13022347264 | 是否存活: True\n",
      "线程名: IPythonHistorySavingThread | ID: 13039136768 | 是否存活: True\n"
     ]
    }
   ],
   "source": [
    "import threading\n",
    "\n",
    "# 打印所有活跃线程的详细信息\n",
    "for thread in threading.enumerate():\n",
    "    print(f\"线程名: {thread.name:<20} | ID: {thread.ident} | 是否存活: {thread.is_alive()}\")\n"
   ]
  },
  {
   "cell_type": "markdown",
   "id": "b50a8566",
   "metadata": {},
   "source": [
    "#### 创建线程"
   ]
  },
  {
   "cell_type": "code",
   "execution_count": 21,
   "id": "be0d5771",
   "metadata": {},
   "outputs": [
    {
     "name": "stdout",
     "output_type": "stream",
     "text": [
      "threading is running\n",
      "MyThread is running\n",
      "当前线程数：7\n"
     ]
    }
   ],
   "source": [
    "## 方法1：使用Thread类\n",
    "def task():\n",
    "    print('threading is running')\n",
    "t1 = threading.Thread(target=task, name='Thread-1')\n",
    "t1.start() \n",
    "\n",
    "## 方法2：继承Thread类\n",
    "class MyThread(threading.Thread):\n",
    "    def run(self):\n",
    "        print('MyThread is running')\n",
    "\n",
    "t2 = MyThread()\n",
    "t2.start()\n",
    "\n",
    "print(f'当前线程数：{threading.active_count()}')\n"
   ]
  },
  {
   "cell_type": "code",
   "execution_count": 10,
   "id": "a8c2b62f",
   "metadata": {},
   "outputs": [
    {
     "name": "stdout",
     "output_type": "stream",
     "text": [
      "threading is running\n",
      "线程是否存活：False\n",
      "当前线程对象：<function current_thread at 0x109f853f0>\n",
      "线程名称：Thread-1\n",
      "线程ID:13056487424\n"
     ]
    }
   ],
   "source": [
    "def task():\n",
    "    print('threading is running')\n",
    "t1 = threading.Thread(target=task, name='Thread-1')\n",
    "t1.start()  ## 启动线程\n",
    "t1.join()  ## 等待线程结束\n",
    "print(f'线程是否存活：{t1.is_alive()}') \n",
    "print(f'当前线程对象：{threading.current_thread}')  \n",
    "print(f'线程名称：{t1.name}')  ## 获取线程名称\n",
    "print(f'线程ID:{t1.ident}')  ## 获取线程ID\n"
   ]
  },
  {
   "cell_type": "markdown",
   "id": "7baf07a0",
   "metadata": {},
   "source": [
    "#### 多线程运行：进程池"
   ]
  },
  {
   "cell_type": "code",
   "execution_count": null,
   "id": "3136aa5c",
   "metadata": {},
   "outputs": [
    {
     "name": "stdout",
     "output_type": "stream",
     "text": [
      "线程 A 开始\n",
      "线程 B 开始\n",
      "A完成\n",
      "B完成\n"
     ]
    }
   ],
   "source": [
    "import time\n",
    "from concurrent.futures import ThreadPoolExecutor\n",
    "\n",
    "def task(name, delay):\n",
    "    print(f\"线程 {name} 开始\")\n",
    "    time.sleep(delay)\n",
    "    return f\"{name}完成\"\n",
    "\n",
    "with ThreadPoolExecutor(max_workers=3) as executor:\n",
    "    # 提交任务\n",
    "    future1 = executor.submit(task, \"A\", 2)\n",
    "    future2 = executor.submit(task, \"B\", 1)    \n",
    "    # 获取结果\n",
    "    print(future1.result())  # 获取结果\n",
    "    print(future2.result())\n",
    "\n"
   ]
  },
  {
   "cell_type": "markdown",
   "id": "11f89539",
   "metadata": {},
   "source": [
    "#### 单线程 vs. 多线程"
   ]
  },
  {
   "cell_type": "code",
   "execution_count": 12,
   "id": "5c4d2f24",
   "metadata": {},
   "outputs": [
    {
     "name": "stdout",
     "output_type": "stream",
     "text": [
      "任务 1 开始\n",
      "任务 1 完成\n",
      "任务 2 开始\n",
      "任务 2 完成\n",
      "任务 3 开始\n",
      "任务 3 完成\n",
      "任务 4 开始\n",
      "任务 4 完成\n",
      "任务 5 开始\n",
      "任务 5 完成\n",
      "顺序执行结果: [1, 4, 9, 16, 25]\n",
      "总耗时: 5.02秒\n"
     ]
    }
   ],
   "source": [
    "import time\n",
    "\n",
    "def task(n):\n",
    "    print(f\"任务 {n} 开始\")\n",
    "    time.sleep(1)   # 模拟I/O等待\n",
    "    print(f\"任务 {n} 完成\")\n",
    "    return n * n\n",
    "\n",
    "start = time.time()\n",
    "\n",
    "# 顺序执行5个任务\n",
    "results = [task(i+1) for i in range(5)]\n",
    "\n",
    "end = time.time()\n",
    "print(f\"顺序执行结果: {results}\")\n",
    "print(f\"总耗时: {end-start:.2f}秒\")\n",
    "\n",
    "\n"
   ]
  },
  {
   "cell_type": "code",
   "execution_count": 19,
   "id": "a9f8e455",
   "metadata": {},
   "outputs": [
    {
     "name": "stdout",
     "output_type": "stream",
     "text": [
      "任务 1 开始\n",
      "任务 2 开始\n",
      "任务 3 开始\n",
      "任务 4 开始\n",
      "任务 5 开始\n",
      "任务 4 完成任务 2 完成\n",
      "任务 1 完成\n",
      "任务 3 完成\n",
      "任务 5 完成\n",
      "\n",
      "结果: [1, 4, 9, 16, 25]\n",
      "线程池耗时: 1.00秒\n"
     ]
    }
   ],
   "source": [
    "from concurrent.futures import ThreadPoolExecutor\n",
    "\n",
    "def task(n):\n",
    "    print(f\"任务 {n} 开始\")\n",
    "    time.sleep(1)   # 模拟I/O等待\n",
    "    print(f\"任务 {n} 完成\")\n",
    "    return n * n\n",
    "\n",
    "def main():\n",
    "    start = time.time()\n",
    "    \n",
    "    with ThreadPoolExecutor(max_workers=5) as executor:\n",
    "        # 提交所有任务\n",
    "        futures = [executor.submit(task, i+1) for i in range(5)]        \n",
    "        # 收集结果\n",
    "        results = [f.result() for f in futures]    \n",
    "    end = time.time()\n",
    "    print(f\"结果: {results}\")\n",
    "    print(f\"线程池耗时: {end-start:.2f}秒\")\n",
    "\n",
    "if __name__ == \"__main__\":\n",
    "    main()\n"
   ]
  },
  {
   "cell_type": "markdown",
   "id": "5f100ac0",
   "metadata": {},
   "source": [
    "#### 实例：数据读入   \n"
   ]
  },
  {
   "cell_type": "code",
   "execution_count": 41,
   "id": "d173bef3",
   "metadata": {},
   "outputs": [],
   "source": [
    "from glob import glob\n",
    "import numpy as np\n",
    "import time\n"
   ]
  },
  {
   "cell_type": "code",
   "execution_count": 114,
   "id": "eed7baf0",
   "metadata": {},
   "outputs": [],
   "source": [
    "for i in range(10):\n",
    "    arr = np.random.rand(10000, 10000)  # 生成一个1000x1000的随机数组\n",
    "    np.save(f'第7章-并发编程/data/data_{i}.npy', arr)  # 保存为.npy文件\n"
   ]
  },
  {
   "cell_type": "code",
   "execution_count": 115,
   "id": "9474de60",
   "metadata": {},
   "outputs": [],
   "source": [
    "paths = glob('第7章-并发编程/data/*.npy')  # 获取所有数据文件路径\n",
    "paths_list = [paths[i::2] for i in range(2)]\n"
   ]
  },
  {
   "cell_type": "code",
   "execution_count": 154,
   "id": "d20bfb06",
   "metadata": {},
   "outputs": [
    {
     "name": "stdout",
     "output_type": "stream",
     "text": [
      "单线程读取数据个数: 10\n",
      "顺序读取耗时: 1.64秒\n"
     ]
    }
   ],
   "source": [
    "def load_data(paths):\n",
    "    data = []\n",
    "    for path in paths:\n",
    "        arr = np.load(path)  # 读取数据\n",
    "        data.append(arr)\n",
    "    return len(data)\n",
    "\n",
    "if __name__ == \"__main__\":\n",
    "    # 测试单线程读取数据\n",
    "    start = time.time()\n",
    "    num_data = load_data(paths)  # 测试函数\n",
    "    end = time.time()\n",
    "    print(f'单线程读取数据个数: {num_data}')  # 输出读取的数据个数\n",
    "    print(f'顺序读取耗时: {end - start:.2f}秒')  # 输出耗时\n",
    "\n"
   ]
  },
  {
   "cell_type": "code",
   "execution_count": 151,
   "id": "63abd581",
   "metadata": {},
   "outputs": [
    {
     "name": "stdout",
     "output_type": "stream",
     "text": [
      "多线程读取数据个数: 10\n",
      "多线程读取耗时: 0.97秒\n"
     ]
    }
   ],
   "source": [
    "from concurrent.futures import ThreadPoolExecutor\n",
    "\n",
    "if __name__ == \"__main__\":\n",
    "    # 测试多线程读取数据\n",
    "    paths_list = [paths[i::5] for i in range(5)]  # 将路径分成5份\n",
    "    start = time.time()\n",
    "    with ThreadPoolExecutor(max_workers=10) as executor:\n",
    "        futures = [executor.submit(load_data, paths) for paths in paths_list]        \n",
    "        results = [f.result() for f in futures]    \n",
    "        results = sum(results)  # 合并结果\n",
    "    end = time.time()\n",
    "    print(f'多线程读取数据个数: {results}')  # 输出读取的数据个数\n",
    "    print(f'多线程读取耗时: {end - start:.2f}秒')\n",
    "\n"
   ]
  },
  {
   "cell_type": "code",
   "execution_count": null,
   "id": "693357f9",
   "metadata": {},
   "outputs": [],
   "source": [
    "\n",
    "\n",
    "\n",
    "\n"
   ]
  }
 ],
 "metadata": {
  "kernelspec": {
   "display_name": "venv",
   "language": "python",
   "name": "python3"
  },
  "language_info": {
   "codemirror_mode": {
    "name": "ipython",
    "version": 3
   },
   "file_extension": ".py",
   "mimetype": "text/x-python",
   "name": "python",
   "nbconvert_exporter": "python",
   "pygments_lexer": "ipython3",
   "version": "3.10.14"
  }
 },
 "nbformat": 4,
 "nbformat_minor": 5
}
