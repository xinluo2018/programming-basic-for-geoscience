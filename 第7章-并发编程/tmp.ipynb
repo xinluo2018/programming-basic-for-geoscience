{
 "cells": [
  {
   "cell_type": "code",
   "execution_count": null,
   "id": "b6f761be",
   "metadata": {},
   "outputs": [],
   "source": []
  },
  {
   "cell_type": "code",
   "execution_count": 2,
   "id": "4965652d",
   "metadata": {},
   "outputs": [],
   "source": [
    "# CPU密集型任务对比  \n",
    "def count(n):  \n",
    "    while n > 0:  \n",
    "        n -= 1  \n",
    "\n",
    "# 多线程 vs 多进程执行时间对比  \n",
    "count(188000000)\n"
   ]
  },
  {
   "cell_type": "code",
   "execution_count": null,
   "id": "e0b7f340",
   "metadata": {},
   "outputs": [
    {
     "name": "stdout",
     "output_type": "stream",
     "text": [
      "逻辑核数: 10\n"
     ]
    }
   ],
   "source": [
    "import os  \n",
    "print(\"逻辑核数:\", os.cpu_count())  \n",
    "\n"
   ]
  },
  {
   "cell_type": "code",
   "execution_count": 14,
   "id": "bf2a20f8",
   "metadata": {},
   "outputs": [
    {
     "name": "stdout",
     "output_type": "stream",
     "text": [
      "当前进程0：82219\n",
      "当前进程1：82219\n",
      "2.468456983566284\n"
     ]
    }
   ],
   "source": [
    "import time\n",
    "def Test(pid):\n",
    "    print(\"当前进程{}：{}\".format(pid, os.getpid()))\n",
    "    for i in range(100000000):\n",
    "        pass\n",
    "\n",
    "if __name__ == '__main__':\n",
    "    #单进程\n",
    "    start = time.time()\n",
    "    for i in range(2):\n",
    "        Test(i)\n",
    "    end = time.time()\n",
    "    print((end - start))\n"
   ]
  },
  {
   "cell_type": "code",
   "execution_count": 22,
   "id": "af8b502a",
   "metadata": {},
   "outputs": [
    {
     "name": "stdout",
     "output_type": "stream",
     "text": [
      "task t1\n",
      "task t2\n"
     ]
    },
    {
     "name": "stdout",
     "output_type": "stream",
     "text": [
      "2s\n",
      "2s\n",
      "1s\n",
      "1s\n",
      "0s\n",
      "0s\n"
     ]
    }
   ],
   "source": [
    "import threading\n",
    "import time\n",
    "\n",
    "def run(n):\n",
    "    print(\"task\", n)\n",
    "    time.sleep(1)\n",
    "    print('2s')\n",
    "    time.sleep(1)\n",
    "    print('1s')\n",
    "    time.sleep(1)\n",
    "    print('0s')\n",
    "    time.sleep(1)\n",
    "\n",
    "if __name__ == '__main__':\n",
    "    t1 = threading.Thread(target=run, args=(\"t1\",))\n",
    "    t2 = threading.Thread(target=run, args=(\"t2\",))\n",
    "    t1.start()\n",
    "    t2.start()\n"
   ]
  }
 ],
 "metadata": {
  "kernelspec": {
   "display_name": "venv",
   "language": "python",
   "name": "python3"
  },
  "language_info": {
   "codemirror_mode": {
    "name": "ipython",
    "version": 3
   },
   "file_extension": ".py",
   "mimetype": "text/x-python",
   "name": "python",
   "nbconvert_exporter": "python",
   "pygments_lexer": "ipython3",
   "version": "3.10.15"
  }
 },
 "nbformat": 4,
 "nbformat_minor": 5
}
