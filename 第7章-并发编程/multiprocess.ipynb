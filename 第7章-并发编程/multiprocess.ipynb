{
 "cells": [
  {
   "cell_type": "markdown",
   "id": "1bad542e",
   "metadata": {},
   "source": [
    "### 多进程编程"
   ]
  },
  {
   "cell_type": "code",
   "execution_count": null,
   "id": "fee8ee50",
   "metadata": {},
   "outputs": [],
   "source": [
    "from multiprocessing import set_start_method\n",
    "set_start_method(\"fork\")  # 设置进程启动方式为fork  ## 针对macos系统的设置\n"
   ]
  },
  {
   "cell_type": "markdown",
   "id": "3b972232",
   "metadata": {},
   "source": [
    "#### 创建进程：Process类"
   ]
  },
  {
   "cell_type": "code",
   "execution_count": 2,
   "id": "945330df",
   "metadata": {},
   "outputs": [
    {
     "name": "stdout",
     "output_type": "stream",
     "text": [
      "第1个进程在运行\n",
      "True\n",
      "False\n"
     ]
    }
   ],
   "source": [
    "from multiprocessing import Process\n",
    "\n",
    "def task(i_process):\n",
    "    print(f\"第{i_process}个进程在运行\")\n",
    "\n",
    "if __name__ == \"__main__\":\n",
    "    p = Process(target=task, args=(1,))\n",
    "    p.start()  # 启动进程\n",
    "    print(p.is_alive())  # 检查进程是否仍在运行\n",
    "    p.join()   # 等待子进程结束\n",
    "    print(p.is_alive())\n"
   ]
  },
  {
   "cell_type": "code",
   "execution_count": 3,
   "id": "c427c054",
   "metadata": {},
   "outputs": [
    {
     "name": "stdout",
     "output_type": "stream",
     "text": [
      "第0个进程在运行\n",
      "\n",
      "第2个进程在运行第1个进程在运行\n",
      "第3个进程在运行\n",
      "第4个进程在运行\n",
      "测试结束\n"
     ]
    }
   ],
   "source": [
    "### 多个进程\n",
    "def task(i_process):\n",
    "    print(f\"第{i_process}个进程在运行\")\n",
    "\n",
    "if __name__ == \"__main__\":\n",
    "    process_list = []\n",
    "    for i in range(5):\n",
    "      p = Process(target=task, args=(i,))\n",
    "      p.start()  # 启动进程\n",
    "      process_list.append(p)\n",
    "    for p in process_list:\n",
    "      p.join()   # 等待子进程结束\n",
    "    print('测试结束')\n",
    "\n"
   ]
  },
  {
   "cell_type": "markdown",
   "id": "f7d0b9f1",
   "metadata": {},
   "source": [
    "#### 进程池管理：Pool类\n",
    "对于多个进程的高效处理"
   ]
  },
  {
   "cell_type": "code",
   "execution_count": 4,
   "id": "194d930a",
   "metadata": {},
   "outputs": [
    {
     "name": "stdout",
     "output_type": "stream",
     "text": [
      "第2个进程在运行\n",
      "第1个进程在运行\n",
      "第0个进程在运行\n",
      "\n",
      "\n",
      "第3个进程在运行\n",
      "\n",
      "第4个进程在运行\n",
      "\n",
      "第5个进程在运行\n",
      "第6个进程在运行\n",
      "\n",
      "\n",
      "第7个进程在运行\n",
      "\n",
      "第8个进程在运行\n",
      "\n",
      "第9个进程在运行\n",
      "\n",
      "\n"
     ]
    }
   ],
   "source": [
    "from multiprocessing import Pool\n",
    "\n",
    "def fun(i_process):\n",
    "    print(f\"第{i_process}个进程在运行\\n\")\n",
    "\n",
    "if __name__ == \"__main__\":\n",
    "    with Pool(4) as pool:   # 创建4个进程的池，4为同时运行的最大任务数\n",
    "      for i in range(10):   # 提交10个任务到进程池。\n",
    "          pool.apply_async(fun, args=(i,))  ## 运行任务\n",
    "      pool.close()  # 关闭进程池，禁止提交新任务\n",
    "      pool.join()   # 等待所有任务完成\n",
    "\n"
   ]
  },
  {
   "cell_type": "code",
   "execution_count": 5,
   "id": "06cd2f53",
   "metadata": {},
   "outputs": [
    {
     "name": "stdout",
     "output_type": "stream",
     "text": [
      "第1个进程在运行\n",
      "第2个进程在运行\n",
      "第4个进程在运行\n",
      "第3个进程在运行\n",
      "\n",
      "\n",
      "\n",
      "\n",
      "[None, None, None, None]\n"
     ]
    }
   ],
   "source": [
    "## map()方法的使用\n",
    "from multiprocessing import Pool\n",
    "\n",
    "def fun(i_process):\n",
    "    print(f\"第{i_process}个进程在运行\\n\")\n",
    "\n",
    "if __name__ == \"__main__\":\n",
    "    with Pool(4) as pool:  # 创建4个进程的池\n",
    "        results = pool.map(fun, [1, 2, 3, 4]) # 多个任务的提交   \n",
    "    print(results)  # \n",
    "\n"
   ]
  },
  {
   "cell_type": "markdown",
   "id": "9085f8c2",
   "metadata": {},
   "source": [
    "#### 进程间通信：Queue类"
   ]
  },
  {
   "cell_type": "code",
   "execution_count": 6,
   "id": "62f09b69",
   "metadata": {},
   "outputs": [
    {
     "name": "stdout",
     "output_type": "stream",
     "text": [
      "True\n",
      "Hello from producer\n",
      "False\n",
      "False\n"
     ]
    }
   ],
   "source": [
    "from multiprocessing import Process, Queue\n",
    "\n",
    "def producer(q):  # 生产者函数\n",
    "    q.put(\"Hello from producer\") # 将数据放入队列\n",
    "\n",
    "def consumer(q):  # 消费者函数    \n",
    "    print(q.get())  # 从队列中获取数据,并打印\n",
    "\n",
    "if __name__ == \"__main__\":\n",
    "    q = Queue()\n",
    "    print(q.empty())  # 检查队列是否为空\n",
    "    p1 = Process(target=producer, args=(q,)) # 生产者进程\n",
    "    p2 = Process(target=consumer, args=(q,)) # 消费者进程\n",
    "    p1.start(); p2.start()\n",
    "    print(q.empty())  # 检查队列是否为空\n",
    "    print(q.full())   # 检查队列是否已满\n",
    "    p1.join(); p2.join()\n",
    "\n"
   ]
  },
  {
   "cell_type": "markdown",
   "id": "c6746a95",
   "metadata": {},
   "source": [
    "#### 多进程编程并行计算：圆周率计算"
   ]
  },
  {
   "cell_type": "code",
   "execution_count": 28,
   "id": "dcb7a9ba",
   "metadata": {},
   "outputs": [
    {
     "name": "stdout",
     "output_type": "stream",
     "text": [
      "fib(35) = 9227465\n",
      "fib(35) = 9227465\n",
      "fib(35) = 9227465\n",
      "fib(35) = 9227465\n",
      "\n",
      "总耗时: 5.83秒\n"
     ]
    }
   ],
   "source": [
    "import time\n",
    "\n",
    "def fibonacci(n):\n",
    "    \"\"\"递归计算斐波那契数列（模拟耗时计算）\"\"\"\n",
    "    if n <= 1:\n",
    "        return n\n",
    "    return fibonacci(n-1) + fibonacci(n-2)\n",
    "\n",
    "if __name__ == '__main__':\n",
    "    # 创建一组计算任务\n",
    "    tasks = [35, 35, 35, 35]  # 计算4次fib()\n",
    "    \n",
    "    start_time = time.time()  # 记录开始时间    \n",
    "    # 单进程顺序计算\n",
    "    results = []\n",
    "    for n in tasks:\n",
    "        result = fibonacci(n)\n",
    "        results.append(result)\n",
    "        print(f\"fib({n}) = {result}\")\n",
    "    \n",
    "    total_time = time.time() - start_time\n",
    "    print(f\"\\n总耗时: {total_time:.2f}秒\")\n"
   ]
  },
  {
   "cell_type": "code",
   "execution_count": null,
   "id": "09871504",
   "metadata": {},
   "outputs": [
    {
     "name": "stdout",
     "output_type": "stream",
     "text": [
      "fib(35) = 9227465\n",
      "fib(35) = 9227465\n",
      "fib(35) = 9227465\n",
      "fib(35) = 9227465\n",
      "\n",
      "总耗时: 2.11秒\n"
     ]
    }
   ],
   "source": [
    "import time\n",
    "from multiprocessing import Pool\n",
    "\n",
    "def fibonacci(n):\n",
    "    \"\"\"递归计算斐波那契数列（与单进程相同函数）\"\"\"\n",
    "    if n <= 1:\n",
    "        return n\n",
    "    return fibonacci(n-1) + fibonacci(n-2)\n",
    "\n",
    "if __name__ == '__main__':\n",
    "    # 相同的计算任务\n",
    "    tasks = [35, 35, 35, 35]  # 计算4次fib(), 思考：如果tasks中参数不同会怎样？\n",
    "    start_time = time.time()    \n",
    "    # 多进程并行计算\n",
    "    with Pool(processes=4) as pool:  # 创建包含4个进程的进程池\n",
    "        results = pool.map(fibonacci, tasks)            \n",
    "    # 打印结果\n",
    "    for n, result in zip(tasks, results):\n",
    "        print(f\"fib({n}) = {result}\")    \n",
    "    total_time = time.time() - start_time\n",
    "    print(f\"\\n总耗时: {total_time:.2f}秒\") \n"
   ]
  },
  {
   "cell_type": "code",
   "execution_count": null,
   "id": "55f8af3d",
   "metadata": {},
   "outputs": [],
   "source": [
    "\n",
    "\n",
    "\n",
    "\n",
    "\n"
   ]
  }
 ],
 "metadata": {
  "kernelspec": {
   "display_name": "venv",
   "language": "python",
   "name": "python3"
  },
  "language_info": {
   "codemirror_mode": {
    "name": "ipython",
    "version": 3
   },
   "file_extension": ".py",
   "mimetype": "text/x-python",
   "name": "python",
   "nbconvert_exporter": "python",
   "pygments_lexer": "ipython3",
   "version": "3.10.15"
  }
 },
 "nbformat": 4,
 "nbformat_minor": 5
}
