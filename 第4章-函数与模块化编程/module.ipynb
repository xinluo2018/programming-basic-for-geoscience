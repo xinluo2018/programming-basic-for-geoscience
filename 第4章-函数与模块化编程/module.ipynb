{
 "cells": [
  {
   "cell_type": "markdown",
   "id": "199c033f",
   "metadata": {},
   "source": [
    "### 模块化编程"
   ]
  },
  {
   "cell_type": "code",
   "execution_count": null,
   "id": "40cae30c",
   "metadata": {},
   "outputs": [],
   "source": [
    "# ## 添加至python_modules.py ###\n",
    "# def add(a, b):\n",
    "#     \"\"\"Return the sum of a and b.\"\"\"\n",
    "#     return a + b\n",
    "# def subtract(a, b):\n",
    "#     \"\"\"Return the difference of a and b.\"\"\"\n",
    "#     return a - b\n",
    "# def multiply(a, b):\n",
    "#     \"\"\"Return the product of a and b.\"\"\"\n",
    "#     return a * b\n",
    "# def divide(a, b):\n",
    "#     \"\"\"Return the quotient of a and b.\"\"\"\n",
    "#     if b == 0:\n",
    "#         raise ValueError(\"Cannot divide by zero.\")\n",
    "#     return a / b\n",
    "\n"
   ]
  },
  {
   "cell_type": "code",
   "execution_count": null,
   "id": "5f7d6d2d",
   "metadata": {},
   "outputs": [],
   "source": [
    "# import os \n",
    "# print(os.getcwd())   # 输出当前工作目录\n",
    "# os.chdir('第4章-函数与模块化编程')  # 更改工作目录\n",
    "# print(os.getcwd())   # 输出当前工作目录\n",
    "# from python_module import add, subtract, multiply, divide\n",
    "# add(3, 5)  # 调用add函数\n"
   ]
  },
  {
   "cell_type": "markdown",
   "id": "181ddee9",
   "metadata": {},
   "source": [
    "#### 包"
   ]
  },
  {
   "cell_type": "code",
   "execution_count": null,
   "id": "8cec8b4c",
   "metadata": {},
   "outputs": [],
   "source": [
    "### 创建package, 并在package中创建module\n",
    "### 统计学生成绩的模块 \n",
    "# def mean_scores(scores):\n",
    "#     return sum(scores) / len(scores)\n",
    "# def max_score(scores):\n",
    "#     return max(scores)\n",
    "# def min_score(scores):\n",
    "#     return min(scores)\n",
    "# def median_score(scores):\n",
    "#     sorted_scores = sorted(scores)\n",
    "#     n = len(sorted_scores)\n",
    "#     mid = n // 2\n",
    "#     if n % 2 == 0:\n",
    "#         return (sorted_scores[mid - 1] + sorted_scores[mid]) / 2\n",
    "#     else:\n",
    "#         return sorted_scores[mid]"
   ]
  },
  {
   "cell_type": "code",
   "execution_count": 3,
   "id": "0b815e94",
   "metadata": {},
   "outputs": [
    {
     "name": "stdout",
     "output_type": "stream",
     "text": [
      "/Users/luo/Library/CloudStorage/OneDrive-Personal/教学/课程建设/学科基础-本科-编程基础-承担/课程资料/ppt课件及代码/第4章-函数与模块化编程\n"
     ]
    },
    {
     "data": {
      "text/plain": [
       "83.2"
      ]
     },
     "execution_count": 3,
     "metadata": {},
     "output_type": "execute_result"
    }
   ],
   "source": [
    "import os \n",
    "print(os.getcwd())   # 检查当前工作目录, 将路径添加至环境变量\n",
    "# from package1.stas_score import mean_scores, max_score, min_score, median_score\n",
    "from package1 import stas_score\n",
    "scores = [87,78,67,65,89,97,93,78,88,90]\n",
    "# mean_scores(scores)\n",
    "stas_score.mean_scores(scores)  # 调用模块中的函数\n",
    "\n"
   ]
  },
  {
   "cell_type": "markdown",
   "id": "5e30224d",
   "metadata": {},
   "source": [
    "#### Python标准库(包含不同模块)"
   ]
  },
  {
   "cell_type": "code",
   "execution_count": 8,
   "id": "46a3e41f",
   "metadata": {},
   "outputs": [],
   "source": [
    "### 模块导入\n",
    "import math  ## import ...\n",
    "import math as mt ## import ... as ... （名称简写）\n",
    "from math import sqrt ## from ... import ...\n"
   ]
  },
  {
   "cell_type": "code",
   "execution_count": null,
   "id": "ddc46121",
   "metadata": {},
   "outputs": [
    {
     "name": "stdout",
     "output_type": "stream",
     "text": [
      "9\n"
     ]
    }
   ],
   "source": [
    "### 模块的作用，以中位数计算\n",
    "def median(nums_list):\n",
    "    if not nums_list:\n",
    "        return None\n",
    "    nums_list.sort()  ## 排序\n",
    "    n = len(nums_list)\n",
    "    mid = n // 2\n",
    "    if n % 2 == 0:\n",
    "        return (nums_list[mid - 1] + nums_list[mid]) / 2\n",
    "    else:\n",
    "        return nums_list[mid]\n",
    "\n",
    "nums = [1,3,5,7,9,10,23,27,17]\n",
    "result = median(nums_list=nums)\n",
    "print(result)\n"
   ]
  },
  {
   "cell_type": "code",
   "execution_count": 6,
   "id": "9d448011",
   "metadata": {},
   "outputs": [
    {
     "name": "stdout",
     "output_type": "stream",
     "text": [
      "9\n"
     ]
    }
   ],
   "source": [
    "import statistics\n",
    "result = statistics.median(nums)\n",
    "print(result)  # 输出: 9.0\n"
   ]
  },
  {
   "cell_type": "code",
   "execution_count": null,
   "id": "7c07dfa1",
   "metadata": {},
   "outputs": [
    {
     "name": "stdout",
     "output_type": "stream",
     "text": [
      "/Users/luo/Library/CloudStorage/OneDrive-Personal/教学/课程建设/学科基础-本科-编程基础-承担/课程资料/ppt课件及代码/第4章-函数与模块化编程\n"
     ]
    },
    {
     "data": {
      "text/plain": [
       "51216"
      ]
     },
     "execution_count": 44,
     "metadata": {},
     "output_type": "execute_result"
    }
   ],
   "source": [
    "### 常用python标准库/模块\n",
    "import os\n",
    "print(os.getcwd())  # 输出当前工作目录\n",
    "# print(os.listdir())  # 输出当前目录下的文件和文件夹列表\n",
    "# print(os.path.exists('package1'))  # 检查package1是否存在\n",
    "# os.mkdir('aaa')  # 创建目录\n",
    "# os.rmdir('aaa')  # 删除目录\n"
   ]
  },
  {
   "cell_type": "markdown",
   "id": "5041783a",
   "metadata": {},
   "source": [
    "sys 模块是 Python 标准库中用于访问解释器和系统相关参数的核心模块"
   ]
  },
  {
   "cell_type": "code",
   "execution_count": null,
   "id": "0be89f50",
   "metadata": {},
   "outputs": [
    {
     "name": "stdout",
     "output_type": "stream",
     "text": [
      "darwin\n",
      "3.10.15 (main, Oct  3 2024, 02:33:33) [Clang 14.0.6 ]\n"
     ]
    }
   ],
   "source": [
    "# 在Python中查看效果\n",
    "import os\n",
    "import sys\n",
    "print(sys.platform) # 输出当前操作系统平台\n",
    "print(sys.version)  # 输出Python版本信息\n",
    "print(sys.path)   # 显示环境变量路径\n",
    "# sys.path.append(os.getcwd()+'/第4章-函数与模块化编程')  # 添加环境变量路径\n",
    "# print(sys.path)  # 再次查看，确认路径已添加\n"
   ]
  },
  {
   "cell_type": "code",
   "execution_count": null,
   "id": "f42eb6cd",
   "metadata": {},
   "outputs": [
    {
     "name": "stdout",
     "output_type": "stream",
     "text": [
      "71\n",
      "1748755927.976362\n"
     ]
    },
    {
     "data": {
      "text/plain": [
       "'2025-06-01 13:32:07'"
      ]
     },
     "execution_count": 12,
     "metadata": {},
     "output_type": "execute_result"
    }
   ],
   "source": [
    "import random\n",
    "print(random.randint(1, 100))  # 输出1到100之间的随机整数\n"
   ]
  },
  {
   "cell_type": "code",
   "execution_count": 50,
   "id": "fe0dfcc5",
   "metadata": {},
   "outputs": [
    {
     "name": "stdout",
     "output_type": "stream",
     "text": [
      "1748768346.882665\n"
     ]
    },
    {
     "data": {
      "text/plain": [
       "'2025-06-01 16:59:06'"
      ]
     },
     "execution_count": 50,
     "metadata": {},
     "output_type": "execute_result"
    }
   ],
   "source": [
    "import time \n",
    "print(time.time())  # 输出当前时间戳\n",
    "a = time.time() # 获取当前时间戳, 起算点为unix纪元时间（1970-1-1 00:00:00 UTC）\n",
    "a = time.localtime(a)  # 将时间戳转换为本地时间\n",
    "a = time.strftime('%Y-%m-%d %H:%M:%S', a)  # 格式化时间\n",
    "time.sleep(10)  # 暂停1秒\n",
    "a\n"
   ]
  },
  {
   "cell_type": "markdown",
   "id": "560e4809",
   "metadata": {},
   "source": [
    "#### 第三方库"
   ]
  },
  {
   "cell_type": "code",
   "execution_count": 13,
   "id": "6d2c7675",
   "metadata": {},
   "outputs": [
    {
     "name": "stdout",
     "output_type": "stream",
     "text": [
      "[[0. 0. 0.]\n",
      " [0. 0. 0.]]\n",
      "0.0\n"
     ]
    }
   ],
   "source": [
    "import numpy as np\n",
    "arr = np.array([1, 2, 3])\n",
    "arr = np.array([[1, 2, 3], [4, 5, 6]])\n",
    "arr = np.zeros((2, 3))  # 创建一个2行3列的全零数组\n",
    "print(arr)  # 输出数组\n",
    "arr_mean = np.mean(arr)  # 计算数组的平均值\n",
    "arr_std = np.std(arr)  # 计算数组的平均值\n",
    "print(arr_std)  # 输出平均值\n"
   ]
  },
  {
   "cell_type": "code",
   "execution_count": null,
   "id": "6457a65a",
   "metadata": {},
   "outputs": [
    {
     "data": {
      "text/html": [
       "<div>\n",
       "<style scoped>\n",
       "    .dataframe tbody tr th:only-of-type {\n",
       "        vertical-align: middle;\n",
       "    }\n",
       "\n",
       "    .dataframe tbody tr th {\n",
       "        vertical-align: top;\n",
       "    }\n",
       "\n",
       "    .dataframe thead th {\n",
       "        text-align: right;\n",
       "    }\n",
       "</style>\n",
       "<table border=\"1\" class=\"dataframe\">\n",
       "  <thead>\n",
       "    <tr style=\"text-align: right;\">\n",
       "      <th></th>\n",
       "      <th>Name</th>\n",
       "      <th>Age</th>\n",
       "      <th>hometown</th>\n",
       "    </tr>\n",
       "  </thead>\n",
       "  <tbody>\n",
       "    <tr>\n",
       "      <th>0</th>\n",
       "      <td>zhang3</td>\n",
       "      <td>20</td>\n",
       "      <td>yunnan</td>\n",
       "    </tr>\n",
       "    <tr>\n",
       "      <th>1</th>\n",
       "      <td>li4</td>\n",
       "      <td>19</td>\n",
       "      <td>hubei</td>\n",
       "    </tr>\n",
       "    <tr>\n",
       "      <th>2</th>\n",
       "      <td>wang5</td>\n",
       "      <td>18</td>\n",
       "      <td>shangdong</td>\n",
       "    </tr>\n",
       "  </tbody>\n",
       "</table>\n",
       "</div>"
      ],
      "text/plain": [
       "     Name  Age   hometown\n",
       "0  zhang3   20     yunnan\n",
       "1     li4   19      hubei\n",
       "2   wang5   18  shangdong"
      ]
     },
     "execution_count": 27,
     "metadata": {},
     "output_type": "execute_result"
    }
   ],
   "source": [
    "import pandas as pd\n",
    "data = {\n",
    "    'Name': ['zhang3', 'li4', 'wang5'],\n",
    "    'Age': [20, 19, 18],\n",
    "    'hometown': ['yunnan', 'hubei', 'shangdong']\n",
    "}\n",
    "# data\n",
    "df = pd.DataFrame(data)  # 创建DataFrame\n",
    "df\n"
   ]
  },
  {
   "cell_type": "code",
   "execution_count": null,
   "id": "d86ac946",
   "metadata": {},
   "outputs": [
    {
     "data": {
      "text/plain": [
       "[<matplotlib.lines.Line2D at 0x17f46f430>]"
      ]
     },
     "execution_count": 38,
     "metadata": {},
     "output_type": "execute_result"
    },
    {
     "data": {
      "image/png": "[encoded data removed]",
      "text/plain": [
       "<Figure size 640x480 with 1 Axes>"
      ]
     },
     "metadata": {},
     "output_type": "display_data"
    }
   ],
   "source": [
    "import matplotlib.pyplot as plt\n",
    "\n",
    "name = df.loc[:,'Name'].values\n",
    "age = df.loc[:,'Age'].values\n",
    "plt.plot(name, age, 'ro')  # 绘制散点图\n",
    "\n"
   ]
  }
 ],
 "metadata": {
  "kernelspec": {
   "display_name": "venv",
   "language": "python",
   "name": "python3"
  },
  "language_info": {
   "codemirror_mode": {
    "name": "ipython",
    "version": 3
   },
   "file_extension": ".py",
   "mimetype": "text/x-python",
   "name": "python",
   "nbconvert_exporter": "python",
   "pygments_lexer": "ipython3",
   "version": "3.10.15"
  }
 },
 "nbformat": 4,
 "nbformat_minor": 5
}
