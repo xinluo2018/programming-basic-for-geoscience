{
 "cells": [
  {
   "cell_type": "markdown",
   "id": "416251cf",
   "metadata": {},
   "source": [
    "### 函数"
   ]
  },
  {
   "cell_type": "code",
   "execution_count": null,
   "id": "89a6fbbf",
   "metadata": {},
   "outputs": [
    {
     "data": {
      "text/plain": [
       "-1"
      ]
     },
     "execution_count": 43,
     "metadata": {},
     "output_type": "execute_result"
    }
   ],
   "source": [
    "## 位置参数, 用‘/’规定 \n",
    "def subs(x, y, /):\n",
    "    return x - y\n",
    "\n",
    "subs(1, 2)\n"
   ]
  },
  {
   "cell_type": "code",
   "execution_count": 48,
   "id": "f370a25a",
   "metadata": {},
   "outputs": [
    {
     "data": {
      "text/plain": [
       "2"
      ]
     },
     "execution_count": 48,
     "metadata": {},
     "output_type": "execute_result"
    }
   ],
   "source": [
    "## 关键字参数\n",
    "def subs(a,b):\n",
    "    return a - b\n",
    "subs(a=1, b=2)\n",
    "\n",
    "\n",
    "## 默认参数\n",
    "def subs(a=3,b=1):\n",
    "    return a - b\n",
    "subs()\n"
   ]
  },
  {
   "cell_type": "code",
   "execution_count": null,
   "id": "cffcbe63",
   "metadata": {},
   "outputs": [
    {
     "name": "stdout",
     "output_type": "stream",
     "text": [
      "args: (1, 2, 3, 5)\n",
      "kargs: {'a': 3, 'b': 4}\n"
     ]
    },
    {
     "data": {
      "text/plain": [
       "18"
      ]
     },
     "execution_count": 7,
     "metadata": {},
     "output_type": "execute_result"
    }
   ],
   "source": [
    "## 测试可变参数\n",
    "def add(*args, **kwargs):\n",
    "    print('args:', args)\n",
    "    print('kargs:', kwargs)\n",
    "    return sum(args)+sum(kwargs.values())\n",
    "\n",
    "add(1, 2, 3, 5, a=3, b=4)\n"
   ]
  },
  {
   "cell_type": "code",
   "execution_count": null,
   "id": "16b1a97f",
   "metadata": {},
   "outputs": [
    {
     "name": "stdout",
     "output_type": "stream",
     "text": [
      "3\n",
      "3 -1\n"
     ]
    }
   ],
   "source": [
    "## 返回值\n",
    "def add(x, y):\n",
    "    add_result = x + y\n",
    "    return add_result   # 返回一个值\n",
    "a = add(1, 2)\n",
    "print(a)\n",
    "def compute(x, y):\n",
    "    add_result = x + y\n",
    "    sub_result = x - y\n",
    "    return add_result, sub_result # 返回多个值\n",
    "# a = compute(1, 2)\n",
    "a, b = compute(1, 2)\n",
    "print(a, b)\n"
   ]
  },
  {
   "cell_type": "code",
   "execution_count": 7,
   "id": "0be5580a",
   "metadata": {},
   "outputs": [
    {
     "name": "stdout",
     "output_type": "stream",
     "text": [
      "3\n",
      "3\n"
     ]
    }
   ],
   "source": [
    "### lambda 函数\n",
    "def add(x, y):\n",
    "    return x + y\n",
    "print(add(1, 2))  # 调用函数\n",
    "add = lambda x, y: x + y  # 使用lambda表达式定义函数\n",
    "print(add(1, 2))  # 调用函数\n"
   ]
  },
  {
   "cell_type": "markdown",
   "id": "5d9dc9fd",
   "metadata": {},
   "source": [
    "#### 递归函数"
   ]
  },
  {
   "cell_type": "code",
   "execution_count": 1,
   "id": "e103f840",
   "metadata": {},
   "outputs": [
    {
     "data": {
      "text/plain": [
       "832040"
      ]
     },
     "execution_count": 1,
     "metadata": {},
     "output_type": "execute_result"
    }
   ],
   "source": [
    "def fibonacci(n):\n",
    "    \"\"\"递归计算斐波那契数列\"\"\"\n",
    "    if n <= 1:\n",
    "        return n\n",
    "    return fibonacci(n-1) + fibonacci(n-2)\n",
    "\n",
    "fibonacci(n=30)\n",
    "\n"
   ]
  },
  {
   "cell_type": "markdown",
   "id": "aa10baa3",
   "metadata": {},
   "source": [
    "#### 装饰器"
   ]
  },
  {
   "cell_type": "code",
   "execution_count": 14,
   "id": "bd3dae5f",
   "metadata": {},
   "outputs": [
    {
     "name": "stdout",
     "output_type": "stream",
     "text": [
      "Hello, zhang3!\n",
      "Today is 2025-5-20!\n"
     ]
    }
   ],
   "source": [
    "def decorator(func):\n",
    "    \"\"\"装饰器示例\"\"\"\n",
    "    def wrapper(*args, **kwargs):\n",
    "        print(\"Hello everyone!\")\n",
    "        func(*args, **kwargs)\n",
    "    return wrapper\n",
    "\n",
    "# @decorator\n",
    "def say_hello(name):\n",
    "    \"\"\"简单函数示例\"\"\"\n",
    "    print(f\"Hello, {name}!\")\n",
    "\n",
    "# @decorator\n",
    "def say_date(date):\n",
    "    \"\"\"简单函数示例\"\"\"\n",
    "    print(f\"Today is {date}!\")\n",
    "\n",
    "say_hello('zhang3')\n",
    "say_date('2025-5-20')\n",
    "\n"
   ]
  },
  {
   "cell_type": "markdown",
   "id": "663ea750",
   "metadata": {},
   "source": [
    "#### 生成器"
   ]
  },
  {
   "cell_type": "code",
   "execution_count": 66,
   "id": "e19f2ad8",
   "metadata": {},
   "outputs": [
    {
     "name": "stdout",
     "output_type": "stream",
     "text": [
      "0\n",
      "1\n",
      "4\n",
      "9\n",
      "16\n"
     ]
    }
   ],
   "source": [
    "def my_generator():\n",
    "    \"\"\"生成器示例\"\"\"\n",
    "    yield 1\n",
    "    yield 2\n",
    "    yield 3\n",
    "\n",
    "gen = my_generator()\n",
    "gen2 = (x * x for x in range(5))\n",
    "for value in gen2:\n",
    "    print(value)\n"
   ]
  },
  {
   "cell_type": "markdown",
   "id": "fd5826cb",
   "metadata": {},
   "source": [
    "#### 迭代器"
   ]
  },
  {
   "cell_type": "code",
   "execution_count": null,
   "id": "2a12f207",
   "metadata": {},
   "outputs": [
    {
     "data": {
      "text/plain": [
       "1"
      ]
     },
     "execution_count": 71,
     "metadata": {},
     "output_type": "execute_result"
    }
   ],
   "source": [
    "list1 = [1, 2, 3, 4, 5]\n",
    "tuple1 = (1, 2, 3, 4, 5)\n",
    "list1_iter = iter(list1)\n",
    "tuple1_iter = iter(tuple1)\n",
    "next(list1_iter)  # list1_iter是一个迭代器\n",
    "next(tuple1_iter)  # tuple1_iter是一个迭代器\n"
   ]
  },
  {
   "cell_type": "markdown",
   "id": "b9821795",
   "metadata": {},
   "source": [
    "#### python内置函数"
   ]
  },
  {
   "cell_type": "code",
   "execution_count": null,
   "id": "9069b2f8",
   "metadata": {},
   "outputs": [
    {
     "name": "stdout",
     "output_type": "stream",
     "text": [
      "Hello, World!\n"
     ]
    },
    {
     "data": {
      "text/plain": [
       "3"
      ]
     },
     "execution_count": 1,
     "metadata": {},
     "output_type": "execute_result"
    }
   ],
   "source": [
    "print(\"Hello, World!\")  # 打印输出\n",
    "# a = input(\"Enter your age: \")  # 注意：input()函数返回的是字符串类型 \n",
    "# print(type(a))\n",
    "## bmi 计算, bmi = 体重(kg) / 身高(m)^2, 18.5~24.9为正常范围\n",
    "# input_weight = input(\"Enter your weight (kg): \")\n",
    "# input_height = input(\"Enter your height (m): \")\n",
    "# print('your bmi is:', float(input_weight) / (float(input_height) ** 2)) \n",
    "# for i in range(10): print(i, end=' ') ## range()函数生成一个整数序列\n",
    "len([1, 2, 3])  # 获取列表长度\n"
   ]
  }
 ],
 "metadata": {
  "kernelspec": {
   "display_name": "venv",
   "language": "python",
   "name": "python3"
  },
  "language_info": {
   "codemirror_mode": {
    "name": "ipython",
    "version": 3
   },
   "file_extension": ".py",
   "mimetype": "text/x-python",
   "name": "python",
   "nbconvert_exporter": "python",
   "pygments_lexer": "ipython3",
   "version": "3.10.15"
  }
 },
 "nbformat": 4,
 "nbformat_minor": 5
}
